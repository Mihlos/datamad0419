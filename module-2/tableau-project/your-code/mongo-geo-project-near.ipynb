{
 "cells": [
  {
   "cell_type": "code",
   "execution_count": 28,
   "metadata": {},
   "outputs": [],
   "source": [
    "import pandas as pd\n",
    "import folium\n",
    "from pymongo import MongoClient, GEO2D"
   ]
  },
  {
   "cell_type": "code",
   "execution_count": 29,
   "metadata": {},
   "outputs": [],
   "source": [
    "client = MongoClient('mongodb://localhost:27017/')\n",
    "db = client.offices\n",
    "datos_mongo = db.offices\n",
    "\n",
    "\n",
    "puntuaciones= {\n",
    "    'games_video' : 100,\n",
    "    'software' : 50,\n",
    "    'BigCompany' : 25,\n",
    "    'Startup' : 40,\n",
    "    'USA': -80\n",
    "    }"
   ]
  },
  {
   "cell_type": "code",
   "execution_count": 30,
   "metadata": {},
   "outputs": [],
   "source": [
    "# Obtener datos de mongo con el indice 2d geo.\n",
    "def get_geo_data(datos):\n",
    "    cursor_geo= datos.find()\n",
    "    df = pd.DataFrame(cursor_geo)\n",
    "    df = df.drop('_id', axis=1)\n",
    "    return df"
   ]
  },
  {
   "cell_type": "code",
   "execution_count": 31,
   "metadata": {},
   "outputs": [],
   "source": [
    "def sum_points(reg):\n",
    "    points = 0\n",
    "    points+= puntuaciones[reg.category_code]\n",
    "    points+= puntuaciones[reg.type]\n",
    "    if reg.country_code== 'USA': points+= puntuaciones['USA']\n",
    "    return points\n",
    "\n",
    "def get_offices_near(reg):\n",
    "    points= list()\n",
    "    lat = float(reg.latitude)\n",
    "    long = float(reg.longitude)\n",
    "    df_location = pd.DataFrame(datos_mongo.find({\n",
    "                                \"2Dgeo\": {\n",
    "                                 \"$near\": {\n",
    "                                   \"$geometry\": {\n",
    "                                      \"type\": \"Point\" ,\n",
    "                                      \"coordinates\": [ long, lat ]\n",
    "                                   },\n",
    "                                   \"$maxDistance\": 3000, # In meters\n",
    "                                 }\n",
    "                               }\n",
    "                            }))\n",
    "    points.extend(df_location.apply(sum_points, axis=1))\n",
    "    return sum(points)"
   ]
  },
  {
   "cell_type": "code",
   "execution_count": 32,
   "metadata": {},
   "outputs": [],
   "source": [
    "def calculate_points(df):\n",
    "    df['points'] = df.apply(get_offices_near, axis=1)\n",
    "    return df"
   ]
  },
  {
   "cell_type": "code",
   "execution_count": 33,
   "metadata": {},
   "outputs": [],
   "source": [
    "#Main\n",
    "df_geo_mongo = get_geo_data(datos_mongo)"
   ]
  },
  {
   "cell_type": "code",
   "execution_count": 34,
   "metadata": {},
   "outputs": [],
   "source": [
    "df_points = calculate_points(df_geo_mongo)\n",
    "df_points= df_points.sort_values('points', ascending=False)\n",
    "\n",
    "#TODO pintar el punto en el mapa."
   ]
  },
  {
   "cell_type": "code",
   "execution_count": 35,
   "metadata": {},
   "outputs": [
    {
     "data": {
      "text/html": [
       "<div>\n",
       "<style scoped>\n",
       "    .dataframe tbody tr th:only-of-type {\n",
       "        vertical-align: middle;\n",
       "    }\n",
       "\n",
       "    .dataframe tbody tr th {\n",
       "        vertical-align: top;\n",
       "    }\n",
       "\n",
       "    .dataframe thead th {\n",
       "        text-align: right;\n",
       "    }\n",
       "</style>\n",
       "<table border=\"1\" class=\"dataframe\">\n",
       "  <thead>\n",
       "    <tr style=\"text-align: right;\">\n",
       "      <th></th>\n",
       "      <th>2Dgeo</th>\n",
       "      <th>category_code</th>\n",
       "      <th>city</th>\n",
       "      <th>country_code</th>\n",
       "      <th>founded_year</th>\n",
       "      <th>latitude</th>\n",
       "      <th>longitude</th>\n",
       "      <th>name</th>\n",
       "      <th>number_of_employees</th>\n",
       "      <th>type</th>\n",
       "      <th>points</th>\n",
       "    </tr>\n",
       "  </thead>\n",
       "  <tbody>\n",
       "    <tr>\n",
       "      <th>71</th>\n",
       "      <td>[-0.1247662, 51.5111369]</td>\n",
       "      <td>software</td>\n",
       "      <td>London</td>\n",
       "      <td>GBR</td>\n",
       "      <td>2006</td>\n",
       "      <td>51.511137</td>\n",
       "      <td>-0.124766</td>\n",
       "      <td>Zmags</td>\n",
       "      <td>95</td>\n",
       "      <td>BigCompany</td>\n",
       "      <td>1450</td>\n",
       "    </tr>\n",
       "    <tr>\n",
       "      <th>432</th>\n",
       "      <td>[-0.1158832, 51.5123833]</td>\n",
       "      <td>software</td>\n",
       "      <td>London</td>\n",
       "      <td>GBR</td>\n",
       "      <td>2007</td>\n",
       "      <td>51.512383</td>\n",
       "      <td>-0.115883</td>\n",
       "      <td>Emoshape</td>\n",
       "      <td>10</td>\n",
       "      <td>BigCompany</td>\n",
       "      <td>1450</td>\n",
       "    </tr>\n",
       "    <tr>\n",
       "      <th>640</th>\n",
       "      <td>[-0.1153003, 51.5220763]</td>\n",
       "      <td>games_video</td>\n",
       "      <td>London</td>\n",
       "      <td>GBR</td>\n",
       "      <td>2007</td>\n",
       "      <td>51.522076</td>\n",
       "      <td>-0.115300</td>\n",
       "      <td>Keen Software House</td>\n",
       "      <td>5</td>\n",
       "      <td>BigCompany</td>\n",
       "      <td>1310</td>\n",
       "    </tr>\n",
       "    <tr>\n",
       "      <th>386</th>\n",
       "      <td>[-0.11796, 51.5178123]</td>\n",
       "      <td>software</td>\n",
       "      <td>London</td>\n",
       "      <td>GBR</td>\n",
       "      <td>2007</td>\n",
       "      <td>51.517812</td>\n",
       "      <td>-0.117960</td>\n",
       "      <td>FreshNetworks</td>\n",
       "      <td>12</td>\n",
       "      <td>BigCompany</td>\n",
       "      <td>1310</td>\n",
       "    </tr>\n",
       "    <tr>\n",
       "      <th>608</th>\n",
       "      <td>[-0.1262362, 51.5001524]</td>\n",
       "      <td>games_video</td>\n",
       "      <td>London</td>\n",
       "      <td>GBR</td>\n",
       "      <td>2008</td>\n",
       "      <td>51.500152</td>\n",
       "      <td>-0.126236</td>\n",
       "      <td>CareerPlayer</td>\n",
       "      <td>5</td>\n",
       "      <td>Startup</td>\n",
       "      <td>1310</td>\n",
       "    </tr>\n",
       "  </tbody>\n",
       "</table>\n",
       "</div>"
      ],
      "text/plain": [
       "                        2Dgeo category_code    city country_code  \\\n",
       "71   [-0.1247662, 51.5111369]      software  London          GBR   \n",
       "432  [-0.1158832, 51.5123833]      software  London          GBR   \n",
       "640  [-0.1153003, 51.5220763]   games_video  London          GBR   \n",
       "386    [-0.11796, 51.5178123]      software  London          GBR   \n",
       "608  [-0.1262362, 51.5001524]   games_video  London          GBR   \n",
       "\n",
       "     founded_year   latitude  longitude                 name  \\\n",
       "71           2006  51.511137  -0.124766                Zmags   \n",
       "432          2007  51.512383  -0.115883             Emoshape   \n",
       "640          2007  51.522076  -0.115300  Keen Software House   \n",
       "386          2007  51.517812  -0.117960        FreshNetworks   \n",
       "608          2008  51.500152  -0.126236         CareerPlayer   \n",
       "\n",
       "     number_of_employees        type  points  \n",
       "71                    95  BigCompany    1450  \n",
       "432                   10  BigCompany    1450  \n",
       "640                    5  BigCompany    1310  \n",
       "386                   12  BigCompany    1310  \n",
       "608                    5     Startup    1310  "
      ]
     },
     "execution_count": 35,
     "metadata": {},
     "output_type": "execute_result"
    }
   ],
   "source": [
    "df_points.head()"
   ]
  },
  {
   "cell_type": "code",
   "execution_count": 38,
   "metadata": {},
   "outputs": [
    {
     "data": {
      "text/plain": [
       "-0.1247662"
      ]
     },
     "execution_count": 38,
     "metadata": {},
     "output_type": "execute_result"
    }
   ],
   "source": [
    "latitud= float(df_points[0:1].latitude)\n",
    "longitud= float(df_points[0:1].longitude)"
   ]
  },
  {
   "cell_type": "code",
   "execution_count": 39,
   "metadata": {},
   "outputs": [],
   "source": [
    "m = folium.Map(location=[latitud, longitud])\n",
    "m.save('index.html')"
   ]
  },
  {
   "cell_type": "code",
   "execution_count": 40,
   "metadata": {},
   "outputs": [
    {
     "data": {
      "text/html": [
       "<div style=\"width:100%;\"><div style=\"position:relative;width:100%;height:0;padding-bottom:60%;\"><iframe src=\"data:text/html;charset=utf-8;base64,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\" style=\"position:absolute;width:100%;height:100%;left:0;top:0;border:none !important;\" allowfullscreen webkitallowfullscreen mozallowfullscreen></iframe></div></div>"
      ],
      "text/plain": [
       "<folium.folium.Map at 0x7f558a6a3ef0>"
      ]
     },
     "execution_count": 40,
     "metadata": {},
     "output_type": "execute_result"
    }
   ],
   "source": [
    "m"
   ]
  },
  {
   "cell_type": "code",
   "execution_count": null,
   "metadata": {},
   "outputs": [],
   "source": []
  }
 ],
 "metadata": {
  "kernelspec": {
   "display_name": "Python 3",
   "language": "python",
   "name": "python3"
  },
  "language_info": {
   "codemirror_mode": {
    "name": "ipython",
    "version": 3
   },
   "file_extension": ".py",
   "mimetype": "text/x-python",
   "name": "python",
   "nbconvert_exporter": "python",
   "pygments_lexer": "ipython3",
   "version": "3.7.3"
  }
 },
 "nbformat": 4,
 "nbformat_minor": 2
}

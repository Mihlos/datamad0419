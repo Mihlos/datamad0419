{
 "cells": [
  {
   "cell_type": "code",
   "execution_count": 62,
   "metadata": {},
   "outputs": [],
   "source": [
    "import pandas as pd\n",
    "import folium\n",
    "from pymongo import MongoClient, GEO2D"
   ]
  },
  {
   "cell_type": "code",
   "execution_count": 63,
   "metadata": {},
   "outputs": [],
   "source": [
    "client = MongoClient('mongodb://localhost:27017/')\n",
    "db = client.offices\n",
    "datos_mongo = db.offices\n",
    "\n",
    "\n",
    "puntuaciones= {\n",
    "    'games_video' : 100,\n",
    "    'software' : 50,\n",
    "    'BigCompany' : 25,\n",
    "    'Startup' : 40,\n",
    "    'USA': -80\n",
    "    }"
   ]
  },
  {
   "cell_type": "code",
   "execution_count": 64,
   "metadata": {},
   "outputs": [],
   "source": [
    "# Obtener datos de mongo con el indice 2d geo.\n",
    "def get_geo_data(datos):\n",
    "    cursor_geo= datos.find()\n",
    "    df = pd.DataFrame(cursor_geo)\n",
    "    df = df.drop('_id', axis=1)\n",
    "    return df"
   ]
  },
  {
   "cell_type": "code",
   "execution_count": 65,
   "metadata": {},
   "outputs": [],
   "source": [
    "def sum_points(reg):\n",
    "    points = 0\n",
    "    points+= puntuaciones[reg.category_code]\n",
    "    points+= puntuaciones[reg.type]\n",
    "    if reg.country_code== 'USA': points+= puntuaciones['USA']\n",
    "    return points\n",
    "\n",
    "def get_offices_near(reg):\n",
    "    points= list()\n",
    "    lat = float(reg.latitude)\n",
    "    long = float(reg.longitude)\n",
    "    df_location = pd.DataFrame(datos_mongo.find({\n",
    "                                \"2Dgeo\": {\n",
    "                                 \"$near\": {\n",
    "                                   \"$geometry\": {\n",
    "                                      \"type\": \"Point\" ,\n",
    "                                      \"coordinates\": [ long, lat ]\n",
    "                                   },\n",
    "                                   \"$maxDistance\": 3000, # In meters\n",
    "                                 }\n",
    "                               }\n",
    "                            }))\n",
    "    points.extend(df_location.apply(sum_points, axis=1))\n",
    "    return sum(points)"
   ]
  },
  {
   "cell_type": "code",
   "execution_count": 66,
   "metadata": {},
   "outputs": [],
   "source": [
    "def calculate_points(df):\n",
    "    df['points'] = df.apply(get_offices_near, axis=1)\n",
    "    return df"
   ]
  },
  {
   "cell_type": "code",
   "execution_count": 67,
   "metadata": {},
   "outputs": [],
   "source": [
    "#Main\n",
    "df_geo_mongo = get_geo_data(datos_mongo)"
   ]
  },
  {
   "cell_type": "code",
   "execution_count": 68,
   "metadata": {},
   "outputs": [],
   "source": [
    "df_points = calculate_points(df_geo_mongo)\n",
    "df_points= df_points.sort_values('points', ascending=False)\n",
    "\n",
    "#TODO pintar el punto en el mapa."
   ]
  },
  {
   "cell_type": "code",
   "execution_count": 69,
   "metadata": {},
   "outputs": [
    {
     "data": {
      "text/html": [
       "<div>\n",
       "<style scoped>\n",
       "    .dataframe tbody tr th:only-of-type {\n",
       "        vertical-align: middle;\n",
       "    }\n",
       "\n",
       "    .dataframe tbody tr th {\n",
       "        vertical-align: top;\n",
       "    }\n",
       "\n",
       "    .dataframe thead th {\n",
       "        text-align: right;\n",
       "    }\n",
       "</style>\n",
       "<table border=\"1\" class=\"dataframe\">\n",
       "  <thead>\n",
       "    <tr style=\"text-align: right;\">\n",
       "      <th></th>\n",
       "      <th>2Dgeo</th>\n",
       "      <th>category_code</th>\n",
       "      <th>city</th>\n",
       "      <th>country_code</th>\n",
       "      <th>founded_year</th>\n",
       "      <th>latitude</th>\n",
       "      <th>longitude</th>\n",
       "      <th>name</th>\n",
       "      <th>number_of_employees</th>\n",
       "      <th>type</th>\n",
       "      <th>points</th>\n",
       "    </tr>\n",
       "  </thead>\n",
       "  <tbody>\n",
       "    <tr>\n",
       "      <th>71</th>\n",
       "      <td>[-0.1247662, 51.5111369]</td>\n",
       "      <td>software</td>\n",
       "      <td>London</td>\n",
       "      <td>GBR</td>\n",
       "      <td>2006</td>\n",
       "      <td>51.511137</td>\n",
       "      <td>-0.124766</td>\n",
       "      <td>Zmags</td>\n",
       "      <td>95</td>\n",
       "      <td>BigCompany</td>\n",
       "      <td>1450</td>\n",
       "    </tr>\n",
       "    <tr>\n",
       "      <th>432</th>\n",
       "      <td>[-0.1158832, 51.5123833]</td>\n",
       "      <td>software</td>\n",
       "      <td>London</td>\n",
       "      <td>GBR</td>\n",
       "      <td>2007</td>\n",
       "      <td>51.512383</td>\n",
       "      <td>-0.115883</td>\n",
       "      <td>Emoshape</td>\n",
       "      <td>10</td>\n",
       "      <td>BigCompany</td>\n",
       "      <td>1450</td>\n",
       "    </tr>\n",
       "    <tr>\n",
       "      <th>640</th>\n",
       "      <td>[-0.1153003, 51.5220763]</td>\n",
       "      <td>games_video</td>\n",
       "      <td>London</td>\n",
       "      <td>GBR</td>\n",
       "      <td>2007</td>\n",
       "      <td>51.522076</td>\n",
       "      <td>-0.115300</td>\n",
       "      <td>Keen Software House</td>\n",
       "      <td>5</td>\n",
       "      <td>BigCompany</td>\n",
       "      <td>1310</td>\n",
       "    </tr>\n",
       "    <tr>\n",
       "      <th>386</th>\n",
       "      <td>[-0.11796, 51.5178123]</td>\n",
       "      <td>software</td>\n",
       "      <td>London</td>\n",
       "      <td>GBR</td>\n",
       "      <td>2007</td>\n",
       "      <td>51.517812</td>\n",
       "      <td>-0.117960</td>\n",
       "      <td>FreshNetworks</td>\n",
       "      <td>12</td>\n",
       "      <td>BigCompany</td>\n",
       "      <td>1310</td>\n",
       "    </tr>\n",
       "    <tr>\n",
       "      <th>608</th>\n",
       "      <td>[-0.1262362, 51.5001524]</td>\n",
       "      <td>games_video</td>\n",
       "      <td>London</td>\n",
       "      <td>GBR</td>\n",
       "      <td>2008</td>\n",
       "      <td>51.500152</td>\n",
       "      <td>-0.126236</td>\n",
       "      <td>CareerPlayer</td>\n",
       "      <td>5</td>\n",
       "      <td>Startup</td>\n",
       "      <td>1310</td>\n",
       "    </tr>\n",
       "  </tbody>\n",
       "</table>\n",
       "</div>"
      ],
      "text/plain": [
       "                        2Dgeo category_code    city country_code  \\\n",
       "71   [-0.1247662, 51.5111369]      software  London          GBR   \n",
       "432  [-0.1158832, 51.5123833]      software  London          GBR   \n",
       "640  [-0.1153003, 51.5220763]   games_video  London          GBR   \n",
       "386    [-0.11796, 51.5178123]      software  London          GBR   \n",
       "608  [-0.1262362, 51.5001524]   games_video  London          GBR   \n",
       "\n",
       "     founded_year   latitude  longitude                 name  \\\n",
       "71           2006  51.511137  -0.124766                Zmags   \n",
       "432          2007  51.512383  -0.115883             Emoshape   \n",
       "640          2007  51.522076  -0.115300  Keen Software House   \n",
       "386          2007  51.517812  -0.117960        FreshNetworks   \n",
       "608          2008  51.500152  -0.126236         CareerPlayer   \n",
       "\n",
       "     number_of_employees        type  points  \n",
       "71                    95  BigCompany    1450  \n",
       "432                   10  BigCompany    1450  \n",
       "640                    5  BigCompany    1310  \n",
       "386                   12  BigCompany    1310  \n",
       "608                    5     Startup    1310  "
      ]
     },
     "execution_count": 69,
     "metadata": {},
     "output_type": "execute_result"
    }
   ],
   "source": [
    "df_points.head()"
   ]
  },
  {
   "cell_type": "code",
   "execution_count": 92,
   "metadata": {},
   "outputs": [],
   "source": [
    "latitud= float(df_points[0:1].latitude)\n",
    "longitud= float(df_points[0:1].longitude)\n",
    "nombre= str(df_points[0:1]['name'])"
   ]
  },
  {
   "cell_type": "code",
   "execution_count": 93,
   "metadata": {},
   "outputs": [
    {
     "data": {
      "text/plain": [
       "<folium.map.Marker at 0x7f558b70c9e8>"
      ]
     },
     "execution_count": 93,
     "metadata": {},
     "output_type": "execute_result"
    }
   ],
   "source": [
    "m = folium.Map(\n",
    "    location=[latitud, longitud],\n",
    "    tiles='Stamen Toner',\n",
    "    zoom_start=16)\n",
    "\n",
    "tooltip = 'Este es tu sitio!'\n",
    "folium.Marker([latitud, longitud], \n",
    "              popup=nombre, \n",
    "              tooltip=tooltip, \n",
    "              icon=folium.Icon(color='green')\n",
    "              ).add_to(m)\n"
   ]
  },
  {
   "cell_type": "code",
   "execution_count": 94,
   "metadata": {},
   "outputs": [
    {
     "data": {
      "text/html": [
       "<div style=\"width:100%;\"><div style=\"position:relative;width:100%;height:0;padding-bottom:60%;\"><iframe src=\"data:text/html;charset=utf-8;base64,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\" style=\"position:absolute;width:100%;height:100%;left:0;top:0;border:none !important;\" allowfullscreen webkitallowfullscreen mozallowfullscreen></iframe></div></div>"
      ],
      "text/plain": [
       "<folium.folium.Map at 0x7f558a6c7048>"
      ]
     },
     "execution_count": 94,
     "metadata": {},
     "output_type": "execute_result"
    }
   ],
   "source": [
    "m.save('index.html')\n",
    "m"
   ]
  },
  {
   "cell_type": "code",
   "execution_count": null,
   "metadata": {},
   "outputs": [],
   "source": []
  }
 ],
 "metadata": {
  "kernelspec": {
   "display_name": "Python 3",
   "language": "python",
   "name": "python3"
  },
  "language_info": {
   "codemirror_mode": {
    "name": "ipython",
    "version": 3
   },
   "file_extension": ".py",
   "mimetype": "text/x-python",
   "name": "python",
   "nbconvert_exporter": "python",
   "pygments_lexer": "ipython3",
   "version": "3.7.3"
  }
 },
 "nbformat": 4,
 "nbformat_minor": 2
}

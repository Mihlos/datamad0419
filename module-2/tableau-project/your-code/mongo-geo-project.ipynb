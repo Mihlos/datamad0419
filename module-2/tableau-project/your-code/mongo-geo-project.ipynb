{
 "cells": [
  {
   "cell_type": "code",
   "execution_count": 71,
   "metadata": {},
   "outputs": [],
   "source": [
    "import pandas as pd\n",
    "from pymongo import MongoClient\n",
    "from pandas.io.json import json_normalize"
   ]
  },
  {
   "cell_type": "code",
   "execution_count": 6,
   "metadata": {},
   "outputs": [],
   "source": [
    "client = MongoClient('mongodb://localhost:27017/')\n",
    "db = client.companies\n",
    "collection = db.companies"
   ]
  },
  {
   "cell_type": "code",
   "execution_count": null,
   "metadata": {},
   "outputs": [],
   "source": [
    "# FILTER {$and: [ {deadpooled_year:null}, {founded_year: {$gt:2003}}, {$or: [{category_code:'games_video'},{category_code:'software'}] }]}\n",
    "# PROJECT {name:1 , category_code:1, number_of_employees:1, founded_year:1, \"offices.city\":1, \"offices.country_code\":1, \"offices.latitude\":1, \"offices.longitude\":1}\n",
    "# SORT {number_of_employees:-1}"
   ]
  },
  {
   "cell_type": "code",
   "execution_count": 82,
   "metadata": {},
   "outputs": [],
   "source": [
    "def query_to_db():\n",
    "    cursor = collection.find({'$and': \n",
    "                        [ {'deadpooled_year':None}, \n",
    "                          {'founded_year': {'$gt':2003}}, \n",
    "                          {'$or': [{'category_code':'games_video'},\n",
    "                                   {'category_code':'software'}] \n",
    "                        }]}\n",
    "                        , {'name':1 , 'category_code':1, 'number_of_employees':1, 'founded_year':1, \n",
    "                           \"offices.city\":1, \"offices.country_code\":1, \"offices.latitude\":1, \"offices.longitude\":1}\n",
    "                        ).sort('number_of_employees', -1)\n",
    "    return pd.DataFrame(cursor)"
   ]
  },
  {
   "cell_type": "code",
   "execution_count": 83,
   "metadata": {},
   "outputs": [],
   "source": [
    "# Main\n",
    "\n",
    "df= query_to_db()\n",
    "#df.offices[1][0]['city']"
   ]
  },
  {
   "cell_type": "code",
   "execution_count": 84,
   "metadata": {},
   "outputs": [
    {
     "data": {
      "text/html": [
       "<div>\n",
       "<style scoped>\n",
       "    .dataframe tbody tr th:only-of-type {\n",
       "        vertical-align: middle;\n",
       "    }\n",
       "\n",
       "    .dataframe tbody tr th {\n",
       "        vertical-align: top;\n",
       "    }\n",
       "\n",
       "    .dataframe thead th {\n",
       "        text-align: right;\n",
       "    }\n",
       "</style>\n",
       "<table border=\"1\" class=\"dataframe\">\n",
       "  <thead>\n",
       "    <tr style=\"text-align: right;\">\n",
       "      <th></th>\n",
       "      <th>_id</th>\n",
       "      <th>category_code</th>\n",
       "      <th>founded_year</th>\n",
       "      <th>name</th>\n",
       "      <th>number_of_employees</th>\n",
       "      <th>offices</th>\n",
       "    </tr>\n",
       "  </thead>\n",
       "  <tbody>\n",
       "    <tr>\n",
       "      <th>0</th>\n",
       "      <td>52cdef7f4bab8bd67529c4e1</td>\n",
       "      <td>software</td>\n",
       "      <td>2004</td>\n",
       "      <td>UCWeb</td>\n",
       "      <td>1700.0</td>\n",
       "      <td>[{'city': 'Guangzhou', 'country_code': 'CHN', ...</td>\n",
       "    </tr>\n",
       "    <tr>\n",
       "      <th>1</th>\n",
       "      <td>52cdef7e4bab8bd67529a77a</td>\n",
       "      <td>software</td>\n",
       "      <td>2006</td>\n",
       "      <td>Veeam Software</td>\n",
       "      <td>1500.0</td>\n",
       "      <td>[{'city': 'Columbus', 'country_code': 'USA', '...</td>\n",
       "    </tr>\n",
       "    <tr>\n",
       "      <th>2</th>\n",
       "      <td>52cdef7e4bab8bd67529aa46</td>\n",
       "      <td>software</td>\n",
       "      <td>2006</td>\n",
       "      <td>Brain Bakery</td>\n",
       "      <td>1000.0</td>\n",
       "      <td>[{'city': 'Ringwood', 'country_code': 'GBR', '...</td>\n",
       "    </tr>\n",
       "    <tr>\n",
       "      <th>3</th>\n",
       "      <td>52cdef7e4bab8bd67529acec</td>\n",
       "      <td>software</td>\n",
       "      <td>2006</td>\n",
       "      <td>Relax Solutions Pvt Ltd</td>\n",
       "      <td>900.0</td>\n",
       "      <td>[{'city': 'Faisalabad', 'country_code': 'PAK',...</td>\n",
       "    </tr>\n",
       "    <tr>\n",
       "      <th>4</th>\n",
       "      <td>52cdef7e4bab8bd67529a8b4</td>\n",
       "      <td>games_video</td>\n",
       "      <td>2004</td>\n",
       "      <td>GREE</td>\n",
       "      <td>700.0</td>\n",
       "      <td>[{'city': 'Tokyo', 'country_code': 'JPN', 'lat...</td>\n",
       "    </tr>\n",
       "  </tbody>\n",
       "</table>\n",
       "</div>"
      ],
      "text/plain": [
       "                        _id category_code  founded_year  \\\n",
       "0  52cdef7f4bab8bd67529c4e1      software          2004   \n",
       "1  52cdef7e4bab8bd67529a77a      software          2006   \n",
       "2  52cdef7e4bab8bd67529aa46      software          2006   \n",
       "3  52cdef7e4bab8bd67529acec      software          2006   \n",
       "4  52cdef7e4bab8bd67529a8b4   games_video          2004   \n",
       "\n",
       "                      name  number_of_employees  \\\n",
       "0                    UCWeb               1700.0   \n",
       "1           Veeam Software               1500.0   \n",
       "2             Brain Bakery               1000.0   \n",
       "3  Relax Solutions Pvt Ltd                900.0   \n",
       "4                     GREE                700.0   \n",
       "\n",
       "                                             offices  \n",
       "0  [{'city': 'Guangzhou', 'country_code': 'CHN', ...  \n",
       "1  [{'city': 'Columbus', 'country_code': 'USA', '...  \n",
       "2  [{'city': 'Ringwood', 'country_code': 'GBR', '...  \n",
       "3  [{'city': 'Faisalabad', 'country_code': 'PAK',...  \n",
       "4  [{'city': 'Tokyo', 'country_code': 'JPN', 'lat...  "
      ]
     },
     "execution_count": 84,
     "metadata": {},
     "output_type": "execute_result"
    }
   ],
   "source": [
    "df.head()"
   ]
  },
  {
   "cell_type": "code",
   "execution_count": null,
   "metadata": {},
   "outputs": [],
   "source": []
  }
 ],
 "metadata": {
  "kernelspec": {
   "display_name": "Python 3",
   "language": "python",
   "name": "python3"
  },
  "language_info": {
   "codemirror_mode": {
    "name": "ipython",
    "version": 3
   },
   "file_extension": ".py",
   "mimetype": "text/x-python",
   "name": "python",
   "nbconvert_exporter": "python",
   "pygments_lexer": "ipython3",
   "version": "3.7.3"
  }
 },
 "nbformat": 4,
 "nbformat_minor": 2
}

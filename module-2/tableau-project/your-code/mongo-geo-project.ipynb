{
 "cells": [
  {
   "cell_type": "code",
   "execution_count": 126,
   "metadata": {},
   "outputs": [],
   "source": [
    "import pandas as pd\n",
    "from pymongo import MongoClient\n",
    "from pandas.io.json import json_normalize"
   ]
  },
  {
   "cell_type": "code",
   "execution_count": 127,
   "metadata": {},
   "outputs": [],
   "source": [
    "client = MongoClient('mongodb://localhost:27017/')\n",
    "db = client.companies\n",
    "collection = db.companies"
   ]
  },
  {
   "cell_type": "code",
   "execution_count": 128,
   "metadata": {},
   "outputs": [],
   "source": [
    "# FILTER {$and: [ {deadpooled_year:null}, {founded_year: {$gt:2003}}, {offices: { $ne: [] } }, {$or: [{category_code:'games_video'},{category_code:'software'}] }]}\n",
    "# PROJECT {name:1 , category_code:1, number_of_employees:1, founded_year:1, \"offices.city\":1, \"offices.country_code\":1, \"offices.latitude\":1, \"offices.longitude\":1}\n",
    "# SORT {number_of_employees:-1}"
   ]
  },
  {
   "cell_type": "code",
   "execution_count": 129,
   "metadata": {},
   "outputs": [],
   "source": [
    "def query_to_db():\n",
    "    cursor = collection.find({'$and': \n",
    "                        [ {'deadpooled_year':None}, \n",
    "                          {'founded_year': {'$gt':2003}},\n",
    "                          {'offices': { '$ne': [] } },\n",
    "                          {'$or': [{'category_code':'games_video'},\n",
    "                                   {'category_code':'software'}] \n",
    "                        }]}\n",
    "                        , {'name':1 , 'category_code':1, 'number_of_employees':1, 'founded_year':1, \n",
    "                           \"offices.city\":1, \"offices.country_code\":1, \"offices.latitude\":1, \"offices.longitude\":1}\n",
    "                        ).sort('number_of_employees', -1)\n",
    "    return pd.DataFrame(cursor)"
   ]
  },
  {
   "cell_type": "code",
   "execution_count": 130,
   "metadata": {},
   "outputs": [],
   "source": [
    "def get_country(element):\n",
    "    return element[0]['country_code']\n",
    "\n",
    "def get_city(element):\n",
    "    return element[0]['city']\n",
    "\n",
    "def get_lat(element):\n",
    "    return element[0]['latitude']\n",
    "\n",
    "def get_long(element):\n",
    "    return element[0]['longitude']\n",
    "\n",
    "\n",
    "\n",
    "def get_columns(data):\n",
    "    data['country']= data['offices'].apply(get_country)\n",
    "    data['city']= data['offices'].apply(get_city)\n",
    "    data['lat']= data['offices'].apply(get_lat)\n",
    "    data['long']= data['offices'].apply(get_long)\n",
    "    return data\n",
    "    \n"
   ]
  },
  {
   "cell_type": "code",
   "execution_count": 134,
   "metadata": {},
   "outputs": [],
   "source": [
    "def clean_cols_nans(data):\n",
    "    data= data.drop(['_id', 'offices'], axis=1)\n",
    "    data= data.dropna(subset=['lat', 'long'])\n",
    "    return data"
   ]
  },
  {
   "cell_type": "code",
   "execution_count": 135,
   "metadata": {},
   "outputs": [],
   "source": [
    "# Main\n",
    "\n",
    "df= query_to_db()\n",
    "df_selected= get_columns(df)\n",
    "df_clean= clean_cols_nans(df_selected)"
   ]
  },
  {
   "cell_type": "code",
   "execution_count": 136,
   "metadata": {},
   "outputs": [
    {
     "data": {
      "text/html": [
       "<div>\n",
       "<style scoped>\n",
       "    .dataframe tbody tr th:only-of-type {\n",
       "        vertical-align: middle;\n",
       "    }\n",
       "\n",
       "    .dataframe tbody tr th {\n",
       "        vertical-align: top;\n",
       "    }\n",
       "\n",
       "    .dataframe thead th {\n",
       "        text-align: right;\n",
       "    }\n",
       "</style>\n",
       "<table border=\"1\" class=\"dataframe\">\n",
       "  <thead>\n",
       "    <tr style=\"text-align: right;\">\n",
       "      <th></th>\n",
       "      <th>category_code</th>\n",
       "      <th>founded_year</th>\n",
       "      <th>name</th>\n",
       "      <th>number_of_employees</th>\n",
       "      <th>country</th>\n",
       "      <th>city</th>\n",
       "      <th>lat</th>\n",
       "      <th>long</th>\n",
       "    </tr>\n",
       "  </thead>\n",
       "  <tbody>\n",
       "    <tr>\n",
       "      <th>0</th>\n",
       "      <td>software</td>\n",
       "      <td>2004</td>\n",
       "      <td>UCWeb</td>\n",
       "      <td>1700.0</td>\n",
       "      <td>CHN</td>\n",
       "      <td>Guangzhou</td>\n",
       "      <td>23.133754</td>\n",
       "      <td>113.385331</td>\n",
       "    </tr>\n",
       "    <tr>\n",
       "      <th>1</th>\n",
       "      <td>software</td>\n",
       "      <td>2006</td>\n",
       "      <td>Veeam Software</td>\n",
       "      <td>1500.0</td>\n",
       "      <td>USA</td>\n",
       "      <td>Columbus</td>\n",
       "      <td>40.088052</td>\n",
       "      <td>-83.088566</td>\n",
       "    </tr>\n",
       "    <tr>\n",
       "      <th>5</th>\n",
       "      <td>software</td>\n",
       "      <td>2006</td>\n",
       "      <td>HubSpot</td>\n",
       "      <td>650.0</td>\n",
       "      <td>USA</td>\n",
       "      <td>Cambridge</td>\n",
       "      <td>42.375392</td>\n",
       "      <td>-71.118487</td>\n",
       "    </tr>\n",
       "    <tr>\n",
       "      <th>6</th>\n",
       "      <td>games_video</td>\n",
       "      <td>2006</td>\n",
       "      <td>Kabam</td>\n",
       "      <td>650.0</td>\n",
       "      <td>USA</td>\n",
       "      <td>San Francisco</td>\n",
       "      <td>37.394456</td>\n",
       "      <td>-122.078531</td>\n",
       "    </tr>\n",
       "    <tr>\n",
       "      <th>7</th>\n",
       "      <td>software</td>\n",
       "      <td>2005</td>\n",
       "      <td>Bazaarvoice</td>\n",
       "      <td>600.0</td>\n",
       "      <td>USA</td>\n",
       "      <td>Austin</td>\n",
       "      <td>30.407545</td>\n",
       "      <td>-97.717667</td>\n",
       "    </tr>\n",
       "  </tbody>\n",
       "</table>\n",
       "</div>"
      ],
      "text/plain": [
       "  category_code  founded_year            name  number_of_employees country  \\\n",
       "0      software          2004           UCWeb               1700.0     CHN   \n",
       "1      software          2006  Veeam Software               1500.0     USA   \n",
       "5      software          2006         HubSpot                650.0     USA   \n",
       "6   games_video          2006           Kabam                650.0     USA   \n",
       "7      software          2005     Bazaarvoice                600.0     USA   \n",
       "\n",
       "            city        lat        long  \n",
       "0      Guangzhou  23.133754  113.385331  \n",
       "1       Columbus  40.088052  -83.088566  \n",
       "5      Cambridge  42.375392  -71.118487  \n",
       "6  San Francisco  37.394456 -122.078531  \n",
       "7         Austin  30.407545  -97.717667  "
      ]
     },
     "execution_count": 136,
     "metadata": {},
     "output_type": "execute_result"
    }
   ],
   "source": [
    "df_clean.head()"
   ]
  },
  {
   "cell_type": "code",
   "execution_count": 137,
   "metadata": {},
   "outputs": [],
   "source": [
    "df_clean.to_json('data_to_plot_mongo.json', orient='records')"
   ]
  },
  {
   "cell_type": "code",
   "execution_count": null,
   "metadata": {},
   "outputs": [],
   "source": []
  }
 ],
 "metadata": {
  "kernelspec": {
   "display_name": "Python 3",
   "language": "python",
   "name": "python3"
  },
  "language_info": {
   "codemirror_mode": {
    "name": "ipython",
    "version": 3
   },
   "file_extension": ".py",
   "mimetype": "text/x-python",
   "name": "python",
   "nbconvert_exporter": "python",
   "pygments_lexer": "ipython3",
   "version": "3.7.3"
  }
 },
 "nbformat": 4,
 "nbformat_minor": 2
}
